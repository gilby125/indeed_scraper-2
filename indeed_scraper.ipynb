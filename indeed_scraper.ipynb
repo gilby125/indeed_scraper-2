{
 "cells": [
  {
   "cell_type": "code",
   "execution_count": 1,
   "metadata": {},
   "outputs": [],
   "source": [
    "from html_cleaner import html_cleaner #import function that cleans up html and returns unique words from the text\n",
    "from bs4 import BeautifulSoup #for HTML parsing\n",
    "from urllib.request import urlopen #website connections\n",
    "from urllib.parse import urljoin # to connect disparate sections of URLs\n",
    "from nltk.corpus import stopwords #to filter out stopwords like 'the', 'or', etc.\n",
    "import re #regular expressions\n",
    "from time import sleep, time #prevent overwhelming the server; clock how long code is taking\n",
    "from collections import Counter # keep track of term counts\n",
    "import pandas as pd #for data frames\n",
    "import numpy as np\n",
    "from tqdm import tqdm #to show progress of scraping\n",
    "from joblib import Parallel, delayed # to parallelize/speed up accessing and scraping websites\n",
    "import matplotlib as mpl\n",
    "import matplotlib.pyplot as plt\n",
    "import seaborn as sns #for plotting counts/percentages of job postings\n",
    "%matplotlib inline"
   ]
  },
  {
   "cell_type": "code",
   "execution_count": 2,
   "metadata": {
    "collapsed": true
   },
   "outputs": [],
   "source": [
    "def ask_city():\n",
    "    \"\"\"\n",
    "    function prompts user to enter a city\n",
    "    Checks for invalid input like integers\n",
    "    in order to have a faster return, user must enter a city and state\n",
    "    blank would result in a long, nationwide search\n",
    "    \"\"\"\n",
    "    while True:\n",
    "        try:\n",
    "            print(\"Enter a city name to search that location for jobs.\")\n",
    "            city_search = str(input())\n",
    "            \n",
    "            if not re.match(\"^[a-zA-Z]*$\", city_search):\n",
    "                print(\"Only letters a-z allowed.\")\n",
    "            \n",
    "            elif len(city_search) == 0:\n",
    "                print(\"Please enter a city.\")\n",
    "            \n",
    "            else:\n",
    "                city_search = city_search.split()\n",
    "                city_search = '+'.join(word for word in city_search)\n",
    "                return city_search\n",
    "        \n",
    "        except ValueError:\n",
    "            print(\"That's not a string. Please enter a city name.\")\n",
    "\n",
    "def ask_state():\n",
    "    \"\"\"\n",
    "    function prompts user to enter a state's two letter abbreviation\n",
    "    Checks for invalid input like integers\n",
    "    \"\"\"\n",
    "    while True:\n",
    "        try:\n",
    "            print(\"Enter a state location (2 letter abbreviation) to search that location for jobs.\")\n",
    "            state_search = str(input())\n",
    "            \n",
    "            if not re.match(\"^[a-zA-Z]*$\", state_search):\n",
    "                print(\"Only letters a-z allowed.\")\n",
    "            \n",
    "            elif len(state_search) == 2:\n",
    "                return state_search\n",
    "            \n",
    "            else:\n",
    "                print(\"Please enter the state's two letter abbreviation\")\n",
    "                \n",
    "        except ValueError:\n",
    "            print(\"That's not a string. Please enter a two letter abbreviation.\")\n",
    "\n",
    "def ask_job():\n",
    "    \"\"\"\n",
    "    function prompts user to enter job title or keyword (2 words max)\n",
    "    return the term that will show up in the URL\n",
    "    \"\"\"\n",
    "    while True:\n",
    "        try:\n",
    "            print(\"Enter a job title, keyword, or company name to search.\")\n",
    "            # print(\"For example, 'data scientist'\")\n",
    "            job_search = str(input())\n",
    "            \n",
    "            if len(job_search.split()) > 2:\n",
    "                print(\"Please limit your search to two words maximum to optimize search results\")\n",
    "            \n",
    "            elif len(job_search) == 0:\n",
    "                print(\"Please enter a search term\")\n",
    "            \n",
    "            else:\n",
    "                job_search = job_search.split()\n",
    "                job_search = '+'.join(word for word in job_search)\n",
    "                return job_search\n",
    "        \n",
    "        except ValueError:\n",
    "            print(\"That's not a string. Please enter a search term\")"
   ]
  },
  {
   "cell_type": "code",
   "execution_count": 3,
   "metadata": {
    "collapsed": true
   },
   "outputs": [],
   "source": [
    "def get_url():\n",
    "    \"\"\"\n",
    "    This function returns the indeed URL produced when you search for job term + city + state\n",
    "    \"\"\"\n",
    "    #ask for input of city, state, job\n",
    "    city_loc = ask_city()\n",
    "    state_loc = ask_state()\n",
    "    job_term = ask_job()\n",
    "    \n",
    "    # join elements together to form URL\n",
    "\n",
    "    final_search = ['http://www.indeed.com/jobs?q=', job_term, '&l=', city_loc, '%2C', state_loc]\n",
    "    final_url = ''.join(final_search) \n",
    "    \n",
    "    return final_url"
   ]
  },
  {
   "cell_type": "code",
   "execution_count": 4,
   "metadata": {
    "collapsed": true
   },
   "outputs": [],
   "source": [
    "def get_num_jobs(url):\n",
    "    \"\"\"\n",
    "    This function takes the url and returns the number of jobs that the Indeed search returns\n",
    "    \"\"\"\n",
    "    r = urlopen(url).read() #open URL\n",
    "    soup = BeautifulSoup(r, \"html.parser\") #get the html from the first page of search results\n",
    "\n",
    "    # look within results to find where number of jobs are shown\n",
    "    # <div id=\"searchCount\">Jobs 1 to 10 of 126,936</div>\n",
    "    \n",
    "    num_jobs = soup.find(id = 'searchCount').string.encode('utf-8')\n",
    "    \n",
    "    #this returns a list of 3 numbers; we want the third number (total number of jobs)\n",
    "    \n",
    "    job_numbers = re.findall('\\d+(?:,\\d+)?', num_jobs.decode()) \n",
    "    #doesn't skip over numbers with comma in them like 126,936\n",
    "    \n",
    "    job_number = job_numbers[2].replace(',', \"\") #return the number of jobs with comma removed\n",
    "\n",
    "    return job_number"
   ]
  },
  {
   "cell_type": "code",
   "execution_count": 5,
   "metadata": {
    "collapsed": true
   },
   "outputs": [],
   "source": [
    "def get_job_links():\n",
    "    \"\"\"\n",
    "    This function obtains all the outgoing links to job descriptions, \n",
    "    and returns a list of those links\n",
    "    \"\"\"\n",
    "    url = get_url()\n",
    "    num_jobs = get_num_jobs(url)\n",
    "    print(\"Your search returned\", num_jobs, \"jobs.\")\n",
    "    \n",
    "    base_url = 'http://www.indeed.com/' #use this below to get each job's URL\n",
    "\n",
    "    num_pages = int(num_jobs)//10 #Indeed only shows 10 results per page, so we divide by 10 (integer div)\n",
    "    \n",
    "    job_links = []\n",
    "    \n",
    "    # Loop through all of our search result pages\n",
    "    # tqdm outputs a progress bar\n",
    "    print(\"Collecting links to jobs\")\n",
    "    for i in tqdm(range(1, num_pages+1)): \n",
    "        \n",
    "        start_num = str(i*10) # page 2 of search results is &start=10, page 3 start=20, etc. \n",
    "        \n",
    "        current_page = ''.join([url, '&start=', start_num])\n",
    "        \n",
    "        html_page = urlopen(current_page).read() #open URL\n",
    "        \n",
    "        soup_page = BeautifulSoup(html_page, \"html.parser\")\n",
    "        \n",
    "        # results are in the center column\n",
    "        # <td id='resultsCol'>\n",
    "        \n",
    "        job_link_area = soup_page.find(id = 'resultsCol')\n",
    "                \n",
    "        links = job_link_area.find_all('a')\n",
    "        \n",
    "        for tag in links:\n",
    "            link = tag.get('href', None)\n",
    "            if link is not None:\n",
    "                job_links.append(link) #create list of every link on the page\n",
    "        \n",
    "        job_links = [link for link in job_links if 'clk' in link] \n",
    "        #filter out only links that have 'clk', which are the links to the job postings\n",
    "        \n",
    "        job_urls = [urljoin(base_url, link) for link in job_links]\n",
    "        sleep(0.05) #setting sleep = 1 adds too much time for large searches. let's try 0.05\n",
    "\n",
    "    return job_urls"
   ]
  },
  {
   "cell_type": "code",
   "execution_count": 6,
   "metadata": {},
   "outputs": [],
   "source": [
    "def get_job_info():\n",
    "    \"\"\"\n",
    "    This function takes the list of outside job links, grabs the text and cleans it up\n",
    "    \"\"\"\n",
    "    job_urls = get_job_links()\n",
    "    \n",
    "    #use list comprehension and parallel processing to speed up if we have a large job\n",
    "    # n_jobs=-1 tells parallel to use all cores of CPU (4 on this machine)\n",
    "    \n",
    "    print(\"Scraping job descriptions\")\n",
    "    job_descriptions = Parallel(n_jobs=-1)(delayed(html_cleaner)(job_urls[i]) for i in tqdm(range(0, len(job_urls))))\n",
    "                        \n",
    "\n",
    "    print(\"Finished collecting the job postings.\")\n",
    "    print(\"Creating plot.\")\n",
    "    return job_descriptions"
   ]
  },
  {
   "cell_type": "code",
   "execution_count": 7,
   "metadata": {},
   "outputs": [],
   "source": [
    "def get_skill_count():\n",
    "    \"\"\"\n",
    "    This function counts the unique instances of skills in all job ads\n",
    "    Returns a dictionary of key:value pairs in the form skill:count\n",
    "    \"\"\"\n",
    "    \n",
    "    #call get_job_info to request user input and begin scraping\n",
    "    job_descriptions = get_job_info()\n",
    "    \n",
    "    doc_frequency = Counter() #creates counter of terms\n",
    "    \n",
    "    [doc_frequency.update(item) for item in job_descriptions] #add dictionary key-values pairs in to a dict\n",
    "    \n",
    "    # can create a dictionary for any particular search. \n",
    "    # Here I'm looking for data science-specific technical skills.\n",
    "    \n",
    "    technical_dict = Counter({'Excel':doc_frequency['excel'], 'SPSS':doc_frequency['spss'],\n",
    "                          'SAS':doc_frequency['sas'], 'Stata': doc_frequency['stata'], \n",
    "                          'R':doc_frequency['r'], 'Python':doc_frequency['python'],\n",
    "                          'SQL':doc_frequency['sql'], 'NoSQL':doc_frequency['nosql'], \n",
    "                          'Tableau':doc_frequency['tableau'], 'D3':doc_frequency['d3'],\n",
    "                          'Java':doc_frequency['java'], 'C++':doc_frequency['c++'], \n",
    "                          'JavaScript':doc_frequency['javascript'], 'Scala': doc_frequency['scala'], \n",
    "                          'Hadoop':doc_frequency['hadoop'], 'Spark':doc_frequency['spark']})\n",
    "    \n",
    "    \n",
    "    return technical_dict"
   ]
  },
  {
   "cell_type": "code",
   "execution_count": 8,
   "metadata": {},
   "outputs": [],
   "source": [
    "def plot_skills():\n",
    "    \"\"\"\n",
    "    This function takes the technical dictionary and converts it to a pandas data frame so that it\n",
    "    can be plotted. Displays the number of skills in a barplot\n",
    "    \"\"\"\n",
    "    \n",
    "    technical_dict =  get_skill_count()\n",
    "    df = pd.DataFrame.from_dict(technical_dict, orient='index').reset_index()\n",
    "    df.columns = ['skill', 'num_postings']\n",
    "    \n",
    "    #sort the data\n",
    "    df.sort_values(by = 'num_postings', ascending = False, inplace = True)\n",
    "    \n",
    "    #set style of plot background\n",
    "    sns.set_style(\"whitegrid\")\n",
    "    \n",
    "    #create figure\n",
    "    ax = sns.barplot(y='skill', x='num_postings', data=df)\n",
    "    \n",
    "    #set axes and figure title \n",
    "    ax.set(ylabel='Skill', xlabel='Count')\n",
    "    sns.plt.title('Count of Technical Skills Requested')\n",
    "    \n",
    "    #display plot \n",
    "    plt.show();"
   ]
  },
  {
   "cell_type": "code",
   "execution_count": 10,
   "metadata": {},
   "outputs": [
    {
     "name": "stdout",
     "output_type": "stream",
     "text": [
      "Enter a city name to search that location for jobs.\n",
      "Boston\n",
      "Enter a state location (2 letter abbreviation) to search that location for jobs.\n",
      "MA\n",
      "Enter a job title, keyword, or company name to search.\n",
      "data scientist\n"
     ]
    },
    {
     "name": "stderr",
     "output_type": "stream",
     "text": [
      "\r",
      "  0%|          | 0/179 [00:00<?, ?it/s]"
     ]
    },
    {
     "name": "stdout",
     "output_type": "stream",
     "text": [
      "Your search returned 1791 jobs.\n",
      "Collecting links to jobs\n"
     ]
    },
    {
     "name": "stderr",
     "output_type": "stream",
     "text": [
      "100%|██████████| 179/179 [01:17<00:00,  2.66it/s]\n",
      "  0%|          | 0/1511 [00:00<?, ?it/s]"
     ]
    },
    {
     "name": "stdout",
     "output_type": "stream",
     "text": [
      "Scraping job descriptions\n"
     ]
    },
    {
     "name": "stderr",
     "output_type": "stream",
     "text": [
      " 51%|█████     | 773/1511 [02:27<03:42,  3.31it/s]Some characters could not be decoded, and were replaced with REPLACEMENT CHARACTER.\n",
      " 54%|█████▎    | 811/1511 [02:35<02:11,  5.34it/s]Some characters could not be decoded, and were replaced with REPLACEMENT CHARACTER.\n",
      "100%|██████████| 1511/1511 [04:24<00:00,  6.38it/s]\n"
     ]
    },
    {
     "name": "stdout",
     "output_type": "stream",
     "text": [
      "Finished collecting the job postings.\n",
      "Creating plot.\n"
     ]
    },
    {
     "data": {
      "image/png": "[encoded data removed]",
      "text/plain": [
       "<matplotlib.figure.Figure at 0x7f79e2609160>"
      ]
     },
     "metadata": {},
     "output_type": "display_data"
    }
   ],
   "source": [
    "plot_skills()"
   ]
  },
  {
   "cell_type": "markdown",
   "metadata": {},
   "source": [
    "With some additional tuning, this could search for most frequent bi-grams, tri-grams, or other terms relevant to the job or search of interest. "
   ]
  },
  {
   "cell_type": "code",
   "execution_count": null,
   "metadata": {
    "collapsed": true
   },
   "outputs": [],
   "source": []
  }
 ],
 "metadata": {
  "kernelspec": {
   "display_name": "Python (py36)",
   "language": "python",
   "name": "py36"
  },
  "language_info": {
   "codemirror_mode": {
    "name": "ipython",
    "version": 3
   },
   "file_extension": ".py",
   "mimetype": "text/x-python",
   "name": "python",
   "nbconvert_exporter": "python",
   "pygments_lexer": "ipython3",
   "version": "3.6.1"
  }
 },
 "nbformat": 4,
 "nbformat_minor": 2
}
